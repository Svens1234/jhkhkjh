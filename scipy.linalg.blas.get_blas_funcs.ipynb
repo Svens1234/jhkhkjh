{
 "cells": [
  {
   "cell_type": "code",
   "execution_count": 3,
   "id": "85fc283c",
   "metadata": {},
   "outputs": [],
   "source": [
    "import scipy.linalg as LA\n",
    "import numpy as np"
   ]
  },
  {
   "cell_type": "code",
   "execution_count": 4,
   "id": "82cf1a08",
   "metadata": {},
   "outputs": [],
   "source": [
    "rng = np.random.default_rng()\n",
    "a = rng.random((3,2))"
   ]
  },
  {
   "cell_type": "code",
   "execution_count": 5,
   "id": "0df5bf30",
   "metadata": {},
   "outputs": [
    {
     "data": {
      "text/plain": [
       "'d'"
      ]
     },
     "execution_count": 5,
     "metadata": {},
     "output_type": "execute_result"
    }
   ],
   "source": [
    "x_gemv = LA.get_blas_funcs('gemv', (a,))\n",
    "x_gemv.typecode"
   ]
  },
  {
   "cell_type": "code",
   "execution_count": 6,
   "id": "0c3bc485",
   "metadata": {},
   "outputs": [
    {
     "data": {
      "text/plain": [
       "'z'"
      ]
     },
     "execution_count": 6,
     "metadata": {},
     "output_type": "execute_result"
    }
   ],
   "source": [
    "x_gemv = LA.get_blas_funcs('gemv',(a*1j,))\n",
    "x_gemv.typecode"
   ]
  },
  {
   "cell_type": "code",
   "execution_count": null,
   "id": "b4a7ff9a",
   "metadata": {},
   "outputs": [],
   "source": []
  }
 ],
 "metadata": {
  "kernelspec": {
   "display_name": "Python 3 (ipykernel)",
   "language": "python",
   "name": "python3"
  },
  "language_info": {
   "codemirror_mode": {
    "name": "ipython",
    "version": 3
   },
   "file_extension": ".py",
   "mimetype": "text/x-python",
   "name": "python",
   "nbconvert_exporter": "python",
   "pygments_lexer": "ipython3",
   "version": "3.10.5"
  }
 },
 "nbformat": 4,
 "nbformat_minor": 5
}
